{
  "nbformat": 4,
  "nbformat_minor": 0,
  "metadata": {
    "colab": {
      "provenance": [],
      "collapsed_sections": []
    },
    "kernelspec": {
      "name": "python3",
      "display_name": "Python 3"
    },
    "language_info": {
      "name": "python"
    }
  },
  "cells": [
    {
      "cell_type": "markdown",
      "source": [
        "**Sprint 1 -  Data collection and preprocessing**"
      ],
      "metadata": {
        "id": "rjp2vxcqNbD_"
      }
    },
    {
      "cell_type": "code",
      "execution_count": null,
      "metadata": {
        "id": "0oil_6Yttd_w"
      },
      "outputs": [],
      "source": [
        "import pandas as pd\n",
        "import numpy as np\n",
        "import matplotlib as plt\n",
        "from sklearn.preprocessing import LabelEncoder\n",
        "import pickle"
      ]
    },
    {
      "cell_type": "code",
      "source": [
        "#reading the data set\n",
        "\n",
        "df = pd.read_csv(\"/content/drive/MyDrive/datasets/autos.csv\", header=0, sep=',', encoding='Latin1',)"
      ],
      "metadata": {
        "id": "RnceA2CF1769"
      },
      "execution_count": null,
      "outputs": []
    },
    {
      "cell_type": "code",
      "source": [
        "#print al the different sellers\n",
        "\n",
        "print(df.seller.value_counts()) #remove the seller type having only 3 cars\n",
        "\n",
        "df[df.seller != 'gewerblich'] #now all the sellers are same so we can get rid of this column\n",
        "\n",
        "df=df.drop('seller',1)\n",
        "\n",
        "#print al the different sellers \n",
        "print(df.offerType.value_counts())\n",
        "\n",
        "df[df.offerType != 'Gesuch']\n",
        "\n",
        "#remove the Offer Type having only 12 listings df [df.offerType - 'Gesuch'] #now all the offers are same so we can get rid of this column \n",
        "df=df.drop('offerType',1)"
      ],
      "metadata": {
        "colab": {
          "base_uri": "https://localhost:8080/"
        },
        "id": "JcVE-yI23Drz",
        "outputId": "7ae42f2f-05fd-4bbb-b1a0-717645fe1414"
      },
      "execution_count": null,
      "outputs": [
        {
          "output_type": "stream",
          "name": "stdout",
          "text": [
            "privat        371525\n",
            "gewerblich         3\n",
            "Name: seller, dtype: int64\n"
          ]
        },
        {
          "output_type": "stream",
          "name": "stderr",
          "text": [
            "/usr/local/lib/python3.7/dist-packages/ipykernel_launcher.py:7: FutureWarning: In a future version of pandas all arguments of DataFrame.drop except for the argument 'labels' will be keyword-only\n",
            "  import sys\n"
          ]
        },
        {
          "output_type": "stream",
          "name": "stdout",
          "text": [
            "Angebot    371516\n",
            "Gesuch         12\n",
            "Name: offerType, dtype: int64\n"
          ]
        },
        {
          "output_type": "stream",
          "name": "stderr",
          "text": [
            "/usr/local/lib/python3.7/dist-packages/ipykernel_launcher.py:15: FutureWarning: In a future version of pandas all arguments of DataFrame.drop except for the argument 'labels' will be keyword-only\n",
            "  from ipykernel import kernelapp as app\n"
          ]
        }
      ]
    },
    {
      "cell_type": "code",
      "source": [
        "#Cars having power less than 50ps and above 900ps seems a little suspicious,\n",
        "\n",
        "#let's remove them and see what we've got now\n",
        "\n",
        "print(df.shape)\n",
        "\n",
        "df=df[(df.powerPS > 50) & (df.powerPS < 900)]\n",
        "\n",
        "print(df.shape) #around 50000 cars ahave been removed which could have inrouduced error to our data\n",
        "\n",
        "#simlarly, filtering our the cars having registeration years not in the mentioned range #print(df.shape)\n",
        "\n",
        "df = df[(df.yearOfRegistration >= 1950) & (df.yearOfRegistration < 2017)] \n",
        "print(df.shape)\n",
        "\n",
        "#not much of a difference but still, 10000 rows have been reduced. it's better to #get rid of faulty data instead of keeping them just to increase the size."
      ],
      "metadata": {
        "colab": {
          "base_uri": "https://localhost:8080/"
        },
        "id": "g-0jzIV963wt",
        "outputId": "51037467-19f6-4e4a-a5d2-7d2705a7cfa8"
      },
      "execution_count": null,
      "outputs": [
        {
          "output_type": "stream",
          "name": "stdout",
          "text": [
            "(371528, 18)\n",
            "(319709, 18)\n",
            "(309171, 18)\n"
          ]
        }
      ]
    },
    {
      "cell_type": "code",
      "source": [
        "#removing irrelevant columns which are either the same for all the cars in teh dataset, or can #introduce bias, so removing them too.\n",
        "\n",
        "df.drop(['name', 'abtest', 'dateCrawled', 'nrOfPictures', 'lastSeen','postalCode', 'dateCreated'], axis='columns', inplace=True)"
      ],
      "metadata": {
        "id": "_5vURsCa7xmH"
      },
      "execution_count": null,
      "outputs": []
    },
    {
      "cell_type": "code",
      "source": [
        "#dropping the duplicates from the dataframe and stroing it in a new df. #here all rows having same value in all the mentioned columns will be deleted and by default,\n",
        "#only first occurance of any such row is kept\n",
        "new_df = df.copy()\n",
        "new_df = new_df.drop_duplicates([ 'price', 'vehicleType', 'yearOfRegistration', 'gearbox', 'powerPS', 'model', 'kilometer', 'monthOfRegistration', 'fuelType' ,'notRepairedDamage'])"
      ],
      "metadata": {
        "id": "u5AIqgxC8J8N"
      },
      "execution_count": null,
      "outputs": []
    },
    {
      "cell_type": "code",
      "source": [
        "#As the dataset contained some german words for many features, cahnging them to english\n",
        "new_df.gearbox.replace(('manuell', 'automatik'), ('manual', 'automatic'), inplace=True)\n",
        "new_df.fuelType.replace(('benzin', 'andere', 'elektro'), ('petrol', 'others', 'electric'), inplace=True)\n",
        "new_df.vehicleType.replace(('kleinwagen', 'cabrio', 'kombi', 'andere'), ('small car', 'convertible', 'combination', 'others'), inplace=True)\n",
        "new_df.notRepairedDamage.replace(('ja', 'nein'), ('Yes', 'No'), inplace=True)"
      ],
      "metadata": {
        "id": "DF6qCbwH9DGe"
      },
      "execution_count": null,
      "outputs": []
    },
    {
      "cell_type": "code",
      "source": [
        "#### Removing the outliers\n",
        "new_df = new_df[(new_df.price >= 100) & (new_df.price <= 150000)]\n",
        "#Filling NaN values for columns whose data might not be there with the information provider,\n",
        "# which might lead to some variance but our model\n",
        "#but we will still be able to give some estimate to the user\n",
        "new_df['notRepairedDamage'].fillna(value='not-declared', inplace=True)\n",
        "new_df['fuelType'].fillna(value='not-declared', inplace=True)\n",
        "new_df['gearbox'].fillna(value='not-declared', inplace=True)\n",
        "new_df['vehicleType'].fillna(value='not declared', inplace=True)\n",
        "new_df['model'].fillna(value='not-declared', inplace=True)"
      ],
      "metadata": {
        "id": "i3w2XvuM9_lF",
        "colab": {
          "base_uri": "https://localhost:8080/"
        },
        "outputId": "d227061f-f8bc-4bf0-c4a6-48628b8f6ea6"
      },
      "execution_count": null,
      "outputs": [
        {
          "output_type": "stream",
          "name": "stderr",
          "text": [
            "/usr/local/lib/python3.7/dist-packages/pandas/core/generic.py:6392: SettingWithCopyWarning: \n",
            "A value is trying to be set on a copy of a slice from a DataFrame\n",
            "\n",
            "See the caveats in the documentation: https://pandas.pydata.org/pandas-docs/stable/user_guide/indexing.html#returning-a-view-versus-a-copy\n",
            "  return self._update_inplace(result)\n"
          ]
        }
      ]
    },
    {
      "cell_type": "code",
      "source": [
        "new_df.to_csv(\"autos_preprocesssed.csv\")"
      ],
      "metadata": {
        "id": "mz2mjBkvAMRv"
      },
      "execution_count": null,
      "outputs": []
    },
    {
      "cell_type": "code",
      "source": [
        "#Columns which contain categorical values, which we'll need to convert via label encoding\n",
        "labels = ['gearbox', 'notRepairedDamage', 'model', 'brand', 'fuelType', 'vehicleType']\n",
        "#looping over the labels to do the label encoding for all at once and\n",
        "#saving the LABEL ENCODING FILES\n",
        "mapper = {}\n",
        "for i in labels:\n",
        "  mapper[i] = LabelEncoder()\n",
        "  mapper[i].fit(new_df[i])\n",
        "  tr = mapper[i].transform(new_df[i])\n",
        "  np.save(str('classes'+i+' .npy'), mapper[i].classes_)\n",
        "  print(i, \":\",mapper[i])\n",
        "  new_df.loc[:, i + '_labels'] = pd.Series (tr, index=new_df.index)\n",
        "\n",
        "#Final data to be put in a new dataframe called \"LABELED\",\n",
        "labeled = new_df[['price','yearOfRegistration','powerPS','kilometer','monthOfRegistration']+[x+\"_labels\" for x in labels]]\n",
        "print(labeled.columns)"
      ],
      "metadata": {
        "colab": {
          "base_uri": "https://localhost:8080/"
        },
        "id": "dY94jVpfBKAr",
        "outputId": "fe0ce426-4a8e-4d6b-f071-a77a590d61f5"
      },
      "execution_count": null,
      "outputs": [
        {
          "output_type": "stream",
          "name": "stdout",
          "text": [
            "gearbox : LabelEncoder()\n",
            "notRepairedDamage : LabelEncoder()\n",
            "model : LabelEncoder()\n",
            "brand : LabelEncoder()\n",
            "fuelType : LabelEncoder()\n",
            "vehicleType : LabelEncoder()\n",
            "Index(['price', 'yearOfRegistration', 'powerPS', 'kilometer',\n",
            "       'monthOfRegistration', 'gearbox_labels', 'notRepairedDamage_labels',\n",
            "       'model_labels', 'brand_labels', 'fuelType_labels',\n",
            "       'vehicleType_labels'],\n",
            "      dtype='object')\n"
          ]
        }
      ]
    },
    {
      "cell_type": "code",
      "source": [
        "#Storing price in Y and rest of the datain X\n",
        "Y = labeled.iloc[:,0].values\n",
        "X = labeled.iloc[:,1:].values\n",
        "#need to reshape the y values\n",
        "Y = Y.reshape(-1,1)"
      ],
      "metadata": {
        "id": "7HI6J1MgHhm7"
      },
      "execution_count": null,
      "outputs": []
    },
    {
      "cell_type": "markdown",
      "source": [
        "**Sprint 2 - Model building**"
      ],
      "metadata": {
        "id": "HQ2SxyYgNp2x"
      }
    },
    {
      "cell_type": "code",
      "source": [
        "from sklearn.model_selection import cross_val_score, train_test_split\n",
        "X_train, X_test, Y_train, Y_test = train_test_split(X, Y, test_size=0.3, random_state = 3)"
      ],
      "metadata": {
        "id": "jv1LMGMgH-Nw"
      },
      "execution_count": null,
      "outputs": []
    },
    {
      "cell_type": "code",
      "source": [
        "#Model building and Fitting\n",
        "from sklearn.ensemble import RandomForestRegressor\n",
        "from sklearn.metrics import r2_score\n",
        "regressor = RandomForestRegressor (n_estimators=1000, max_depth=15, random_state=34)\n",
        "#fitting the model\n",
        "regressor.fit(X_train, np.ravel (Y_train, order='C'))\n",
        "#predicting the values fo test test\n",
        "y_pred = regressor.predict(X_test)\n",
        "#printing the Accuraccy for test set\n",
        "print(r2_score (Y_test,y_pred))"
      ],
      "metadata": {
        "colab": {
          "base_uri": "https://localhost:8080/"
        },
        "id": "6rNhjb67IFuf",
        "outputId": "edab9309-94dc-4fb6-b59a-50d9e9efe69c"
      },
      "execution_count": null,
      "outputs": [
        {
          "output_type": "stream",
          "name": "stdout",
          "text": [
            "0.860497492549767\n"
          ]
        }
      ]
    },
    {
      "cell_type": "code",
      "source": [
        "regressor.predict([[  1995,    102, 150000,     10,      1,      1,    11,     2,\n",
        "            7,      4]])"
      ],
      "metadata": {
        "colab": {
          "base_uri": "https://localhost:8080/"
        },
        "id": "qD5XHVTS_4IC",
        "outputId": "ab439ac5-d3ef-4ebc-d0c6-7e0f043703ee"
      },
      "execution_count": null,
      "outputs": [
        {
          "output_type": "execute_result",
          "data": {
            "text/plain": [
              "array([694.33116734])"
            ]
          },
          "metadata": {},
          "execution_count": 26
        }
      ]
    },
    {
      "cell_type": "code",
      "source": [
        "#saving model for future use.\n",
        "filename ='resale_model.sav'\n",
        "\n",
        "pickle.dump(regressor, open(filename, 'wb'))"
      ],
      "metadata": {
        "id": "JH-gq9qdJULA"
      },
      "execution_count": null,
      "outputs": []
    }
  ]
}